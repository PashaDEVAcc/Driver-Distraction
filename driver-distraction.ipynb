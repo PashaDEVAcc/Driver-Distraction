{
 "cells": [
  {
   "cell_type": "code",
   "execution_count": 1,
   "id": "6590bbdd",
   "metadata": {
    "_cell_guid": "b1076dfc-b9ad-4769-8c92-a6c4dae69d19",
    "_uuid": "8f2839f25d086af736a60e9eeb907d3b93b6e0e5",
    "execution": {
     "iopub.execute_input": "2023-01-28T18:25:46.238841Z",
     "iopub.status.busy": "2023-01-28T18:25:46.237967Z",
     "iopub.status.idle": "2023-01-28T18:25:51.592429Z",
     "shell.execute_reply": "2023-01-28T18:25:51.591290Z"
    },
    "papermill": {
     "duration": 5.363296,
     "end_time": "2023-01-28T18:25:51.595406",
     "exception": false,
     "start_time": "2023-01-28T18:25:46.232110",
     "status": "completed"
    },
    "tags": []
   },
   "outputs": [],
   "source": [
    "import numpy as np # linear algebra\n",
    "import pandas as pd # data processing, CSV file I/O (e.g. pd.read_csv)\n",
    "import matplotlib.pyplot as plt\n",
    "import os\n",
    "from PIL import Image\n",
    "from IPython.display import display \n",
    "import random\n",
    "import tensorflow as tf"
   ]
  },
  {
   "cell_type": "code",
   "execution_count": 2,
   "id": "5c42c782",
   "metadata": {
    "execution": {
     "iopub.execute_input": "2023-01-28T18:25:51.604214Z",
     "iopub.status.busy": "2023-01-28T18:25:51.603125Z",
     "iopub.status.idle": "2023-01-28T18:25:51.659513Z",
     "shell.execute_reply": "2023-01-28T18:25:51.658475Z"
    },
    "papermill": {
     "duration": 0.063243,
     "end_time": "2023-01-28T18:25:51.662024",
     "exception": false,
     "start_time": "2023-01-28T18:25:51.598781",
     "status": "completed"
    },
    "tags": []
   },
   "outputs": [
    {
     "data": {
      "text/html": [
       "<div>\n",
       "<style scoped>\n",
       "    .dataframe tbody tr th:only-of-type {\n",
       "        vertical-align: middle;\n",
       "    }\n",
       "\n",
       "    .dataframe tbody tr th {\n",
       "        vertical-align: top;\n",
       "    }\n",
       "\n",
       "    .dataframe thead th {\n",
       "        text-align: right;\n",
       "    }\n",
       "</style>\n",
       "<table border=\"1\" class=\"dataframe\">\n",
       "  <thead>\n",
       "    <tr style=\"text-align: right;\">\n",
       "      <th></th>\n",
       "      <th>subject</th>\n",
       "      <th>classname</th>\n",
       "      <th>img</th>\n",
       "    </tr>\n",
       "  </thead>\n",
       "  <tbody>\n",
       "    <tr>\n",
       "      <th>0</th>\n",
       "      <td>p002</td>\n",
       "      <td>c0</td>\n",
       "      <td>img_44733.jpg</td>\n",
       "    </tr>\n",
       "    <tr>\n",
       "      <th>1</th>\n",
       "      <td>p002</td>\n",
       "      <td>c0</td>\n",
       "      <td>img_72999.jpg</td>\n",
       "    </tr>\n",
       "    <tr>\n",
       "      <th>2</th>\n",
       "      <td>p002</td>\n",
       "      <td>c0</td>\n",
       "      <td>img_25094.jpg</td>\n",
       "    </tr>\n",
       "    <tr>\n",
       "      <th>3</th>\n",
       "      <td>p002</td>\n",
       "      <td>c0</td>\n",
       "      <td>img_69092.jpg</td>\n",
       "    </tr>\n",
       "    <tr>\n",
       "      <th>4</th>\n",
       "      <td>p002</td>\n",
       "      <td>c0</td>\n",
       "      <td>img_92629.jpg</td>\n",
       "    </tr>\n",
       "    <tr>\n",
       "      <th>...</th>\n",
       "      <td>...</td>\n",
       "      <td>...</td>\n",
       "      <td>...</td>\n",
       "    </tr>\n",
       "    <tr>\n",
       "      <th>22419</th>\n",
       "      <td>p081</td>\n",
       "      <td>c9</td>\n",
       "      <td>img_56936.jpg</td>\n",
       "    </tr>\n",
       "    <tr>\n",
       "      <th>22420</th>\n",
       "      <td>p081</td>\n",
       "      <td>c9</td>\n",
       "      <td>img_46218.jpg</td>\n",
       "    </tr>\n",
       "    <tr>\n",
       "      <th>22421</th>\n",
       "      <td>p081</td>\n",
       "      <td>c9</td>\n",
       "      <td>img_25946.jpg</td>\n",
       "    </tr>\n",
       "    <tr>\n",
       "      <th>22422</th>\n",
       "      <td>p081</td>\n",
       "      <td>c9</td>\n",
       "      <td>img_67850.jpg</td>\n",
       "    </tr>\n",
       "    <tr>\n",
       "      <th>22423</th>\n",
       "      <td>p081</td>\n",
       "      <td>c9</td>\n",
       "      <td>img_9684.jpg</td>\n",
       "    </tr>\n",
       "  </tbody>\n",
       "</table>\n",
       "<p>22424 rows × 3 columns</p>\n",
       "</div>"
      ],
      "text/plain": [
       "      subject classname            img\n",
       "0        p002        c0  img_44733.jpg\n",
       "1        p002        c0  img_72999.jpg\n",
       "2        p002        c0  img_25094.jpg\n",
       "3        p002        c0  img_69092.jpg\n",
       "4        p002        c0  img_92629.jpg\n",
       "...       ...       ...            ...\n",
       "22419    p081        c9  img_56936.jpg\n",
       "22420    p081        c9  img_46218.jpg\n",
       "22421    p081        c9  img_25946.jpg\n",
       "22422    p081        c9  img_67850.jpg\n",
       "22423    p081        c9   img_9684.jpg\n",
       "\n",
       "[22424 rows x 3 columns]"
      ]
     },
     "execution_count": 2,
     "metadata": {},
     "output_type": "execute_result"
    }
   ],
   "source": [
    "img_list = pd.read_csv('../input/state-farm-distracted-driver-detection/driver_imgs_list.csv')\n",
    "img_list"
   ]
  },
  {
   "cell_type": "code",
   "execution_count": 3,
   "id": "0568b98e",
   "metadata": {
    "execution": {
     "iopub.execute_input": "2023-01-28T18:25:51.671445Z",
     "iopub.status.busy": "2023-01-28T18:25:51.669854Z",
     "iopub.status.idle": "2023-01-28T18:25:51.675569Z",
     "shell.execute_reply": "2023-01-28T18:25:51.674691Z"
    },
    "papermill": {
     "duration": 0.012335,
     "end_time": "2023-01-28T18:25:51.677678",
     "exception": false,
     "start_time": "2023-01-28T18:25:51.665343",
     "status": "completed"
    },
    "tags": []
   },
   "outputs": [],
   "source": [
    "img_directory = '../input/state-farm-distracted-driver-detection/imgs/train'\n",
    "img_directory_test = '../input/state-farm-distracted-driver-detection/imgs/test'"
   ]
  },
  {
   "cell_type": "code",
   "execution_count": 4,
   "id": "548eec1c",
   "metadata": {
    "execution": {
     "iopub.execute_input": "2023-01-28T18:25:51.686593Z",
     "iopub.status.busy": "2023-01-28T18:25:51.685110Z",
     "iopub.status.idle": "2023-01-28T18:26:12.480403Z",
     "shell.execute_reply": "2023-01-28T18:26:12.478832Z"
    },
    "papermill": {
     "duration": 20.80219,
     "end_time": "2023-01-28T18:26:12.483198",
     "exception": false,
     "start_time": "2023-01-28T18:25:51.681008",
     "status": "completed"
    },
    "tags": []
   },
   "outputs": [
    {
     "name": "stdout",
     "output_type": "stream",
     "text": [
      "Found 22424 files belonging to 10 classes.\n",
      "Using 17940 files for training.\n"
     ]
    },
    {
     "name": "stderr",
     "output_type": "stream",
     "text": [
      "2023-01-28 18:26:03.359553: I tensorflow/stream_executor/cuda/cuda_gpu_executor.cc:937] successful NUMA node read from SysFS had negative value (-1), but there must be at least one NUMA node, so returning NUMA node zero\n",
      "2023-01-28 18:26:03.360564: I tensorflow/stream_executor/cuda/cuda_gpu_executor.cc:937] successful NUMA node read from SysFS had negative value (-1), but there must be at least one NUMA node, so returning NUMA node zero\n",
      "2023-01-28 18:26:03.554284: I tensorflow/stream_executor/cuda/cuda_gpu_executor.cc:937] successful NUMA node read from SysFS had negative value (-1), but there must be at least one NUMA node, so returning NUMA node zero\n",
      "2023-01-28 18:26:03.555717: I tensorflow/stream_executor/cuda/cuda_gpu_executor.cc:937] successful NUMA node read from SysFS had negative value (-1), but there must be at least one NUMA node, so returning NUMA node zero\n",
      "2023-01-28 18:26:03.557022: I tensorflow/stream_executor/cuda/cuda_gpu_executor.cc:937] successful NUMA node read from SysFS had negative value (-1), but there must be at least one NUMA node, so returning NUMA node zero\n",
      "2023-01-28 18:26:03.558277: I tensorflow/stream_executor/cuda/cuda_gpu_executor.cc:937] successful NUMA node read from SysFS had negative value (-1), but there must be at least one NUMA node, so returning NUMA node zero\n",
      "2023-01-28 18:26:03.566871: I tensorflow/core/platform/cpu_feature_guard.cc:142] This TensorFlow binary is optimized with oneAPI Deep Neural Network Library (oneDNN) to use the following CPU instructions in performance-critical operations:  AVX2 AVX512F FMA\n",
      "To enable them in other operations, rebuild TensorFlow with the appropriate compiler flags.\n",
      "2023-01-28 18:26:03.851661: I tensorflow/stream_executor/cuda/cuda_gpu_executor.cc:937] successful NUMA node read from SysFS had negative value (-1), but there must be at least one NUMA node, so returning NUMA node zero\n",
      "2023-01-28 18:26:03.852551: I tensorflow/stream_executor/cuda/cuda_gpu_executor.cc:937] successful NUMA node read from SysFS had negative value (-1), but there must be at least one NUMA node, so returning NUMA node zero\n",
      "2023-01-28 18:26:03.853325: I tensorflow/stream_executor/cuda/cuda_gpu_executor.cc:937] successful NUMA node read from SysFS had negative value (-1), but there must be at least one NUMA node, so returning NUMA node zero\n",
      "2023-01-28 18:26:03.854032: I tensorflow/stream_executor/cuda/cuda_gpu_executor.cc:937] successful NUMA node read from SysFS had negative value (-1), but there must be at least one NUMA node, so returning NUMA node zero\n",
      "2023-01-28 18:26:03.854709: I tensorflow/stream_executor/cuda/cuda_gpu_executor.cc:937] successful NUMA node read from SysFS had negative value (-1), but there must be at least one NUMA node, so returning NUMA node zero\n",
      "2023-01-28 18:26:03.855441: I tensorflow/stream_executor/cuda/cuda_gpu_executor.cc:937] successful NUMA node read from SysFS had negative value (-1), but there must be at least one NUMA node, so returning NUMA node zero\n",
      "2023-01-28 18:26:06.727957: I tensorflow/stream_executor/cuda/cuda_gpu_executor.cc:937] successful NUMA node read from SysFS had negative value (-1), but there must be at least one NUMA node, so returning NUMA node zero\n",
      "2023-01-28 18:26:06.728898: I tensorflow/stream_executor/cuda/cuda_gpu_executor.cc:937] successful NUMA node read from SysFS had negative value (-1), but there must be at least one NUMA node, so returning NUMA node zero\n",
      "2023-01-28 18:26:06.729589: I tensorflow/stream_executor/cuda/cuda_gpu_executor.cc:937] successful NUMA node read from SysFS had negative value (-1), but there must be at least one NUMA node, so returning NUMA node zero\n",
      "2023-01-28 18:26:06.730279: I tensorflow/stream_executor/cuda/cuda_gpu_executor.cc:937] successful NUMA node read from SysFS had negative value (-1), but there must be at least one NUMA node, so returning NUMA node zero\n",
      "2023-01-28 18:26:06.730956: I tensorflow/stream_executor/cuda/cuda_gpu_executor.cc:937] successful NUMA node read from SysFS had negative value (-1), but there must be at least one NUMA node, so returning NUMA node zero\n",
      "2023-01-28 18:26:06.731602: I tensorflow/core/common_runtime/gpu/gpu_device.cc:1510] Created device /job:localhost/replica:0/task:0/device:GPU:0 with 13789 MB memory:  -> device: 0, name: Tesla T4, pci bus id: 0000:00:04.0, compute capability: 7.5\n",
      "2023-01-28 18:26:06.734823: I tensorflow/stream_executor/cuda/cuda_gpu_executor.cc:937] successful NUMA node read from SysFS had negative value (-1), but there must be at least one NUMA node, so returning NUMA node zero\n",
      "2023-01-28 18:26:06.735482: I tensorflow/core/common_runtime/gpu/gpu_device.cc:1510] Created device /job:localhost/replica:0/task:0/device:GPU:1 with 13789 MB memory:  -> device: 1, name: Tesla T4, pci bus id: 0000:00:05.0, compute capability: 7.5\n"
     ]
    },
    {
     "name": "stdout",
     "output_type": "stream",
     "text": [
      "Found 22424 files belonging to 10 classes.\n",
      "Using 4484 files for validation.\n"
     ]
    }
   ],
   "source": [
    "# 4:3 ratio images at 640x480, we'll scale it down to make it easier for the network\n",
    "train_ds = tf.keras.utils.image_dataset_from_directory(img_directory,validation_split=0.2 ,subset=\"training\",seed=123, image_size =(256,192), batch_size=32)\n",
    "val_ds = tf.keras.utils.image_dataset_from_directory(img_directory,validation_split=0.2 ,subset=\"validation\",seed=123, image_size =(256,192), batch_size=32)"
   ]
  },
  {
   "cell_type": "code",
   "execution_count": 5,
   "id": "8ab7d991",
   "metadata": {
    "execution": {
     "iopub.execute_input": "2023-01-28T18:26:12.493222Z",
     "iopub.status.busy": "2023-01-28T18:26:12.492382Z",
     "iopub.status.idle": "2023-01-28T18:26:12.502820Z",
     "shell.execute_reply": "2023-01-28T18:26:12.501778Z"
    },
    "papermill": {
     "duration": 0.017722,
     "end_time": "2023-01-28T18:26:12.505215",
     "exception": false,
     "start_time": "2023-01-28T18:26:12.487493",
     "status": "completed"
    },
    "tags": []
   },
   "outputs": [],
   "source": [
    "def create_model(input_dims, output_dims):\n",
    "    with tf.name_scope(\"cnn\"):\n",
    "        model = tf.keras.Sequential()\n",
    "        model.add(tf.keras.layers.InputLayer(input_shape=input_dims))\n",
    "        model.add(tf.keras.layers.Rescaling(1./255))\n",
    "        model.add(tf.keras.layers.Conv2D(32,3, activation=\"relu\"))\n",
    "        model.add(tf.keras.layers.MaxPooling2D())\n",
    "        model.add(tf.keras.layers.Conv2D(64,3, activation=\"relu\"))\n",
    "        model.add(tf.keras.layers.MaxPooling2D())\n",
    "        model.add(tf.keras.layers.Conv2D(128,3,activation=\"relu\"))\n",
    "        model.add(tf.keras.layers.Flatten())\n",
    "        \n",
    "        #fully connected layer\n",
    "        model.add(tf.keras.layers.Dense(128, activation=\"relu\"))\n",
    "        model.add(tf.keras.layers.Dense(64, activation=\"relu\"))\n",
    "        model.add(tf.keras.layers.Dense(output_dims, activation=\"softmax\"))\n",
    "        \n",
    "        model.compile(optimizer='adam', loss=tf.keras.losses.SparseCategoricalCrossentropy(from_logits=False), metrics=['accuracy'])\n",
    "        \n",
    "    return model"
   ]
  },
  {
   "cell_type": "code",
   "execution_count": 6,
   "id": "36b94176",
   "metadata": {
    "execution": {
     "iopub.execute_input": "2023-01-28T18:26:12.513699Z",
     "iopub.status.busy": "2023-01-28T18:26:12.513364Z",
     "iopub.status.idle": "2023-01-28T18:26:12.787799Z",
     "shell.execute_reply": "2023-01-28T18:26:12.786804Z"
    },
    "papermill": {
     "duration": 0.282143,
     "end_time": "2023-01-28T18:26:12.791009",
     "exception": false,
     "start_time": "2023-01-28T18:26:12.508866",
     "status": "completed"
    },
    "tags": []
   },
   "outputs": [],
   "source": [
    "model = create_model([256,192,3], 10)"
   ]
  },
  {
   "cell_type": "code",
   "execution_count": 7,
   "id": "dbaa59a5",
   "metadata": {
    "execution": {
     "iopub.execute_input": "2023-01-28T18:26:12.800618Z",
     "iopub.status.busy": "2023-01-28T18:26:12.800227Z",
     "iopub.status.idle": "2023-01-28T18:26:12.807476Z",
     "shell.execute_reply": "2023-01-28T18:26:12.806351Z"
    },
    "papermill": {
     "duration": 0.015881,
     "end_time": "2023-01-28T18:26:12.811437",
     "exception": false,
     "start_time": "2023-01-28T18:26:12.795556",
     "status": "completed"
    },
    "tags": []
   },
   "outputs": [
    {
     "name": "stdout",
     "output_type": "stream",
     "text": [
      "Model: \"sequential\"\n",
      "_________________________________________________________________\n",
      "Layer (type)                 Output Shape              Param #   \n",
      "=================================================================\n",
      "rescaling (Rescaling)        (None, 256, 192, 3)       0         \n",
      "_________________________________________________________________\n",
      "conv2d (Conv2D)              (None, 254, 190, 32)      896       \n",
      "_________________________________________________________________\n",
      "max_pooling2d (MaxPooling2D) (None, 127, 95, 32)       0         \n",
      "_________________________________________________________________\n",
      "conv2d_1 (Conv2D)            (None, 125, 93, 64)       18496     \n",
      "_________________________________________________________________\n",
      "max_pooling2d_1 (MaxPooling2 (None, 62, 46, 64)        0         \n",
      "_________________________________________________________________\n",
      "conv2d_2 (Conv2D)            (None, 60, 44, 128)       73856     \n",
      "_________________________________________________________________\n",
      "flatten (Flatten)            (None, 337920)            0         \n",
      "_________________________________________________________________\n",
      "dense (Dense)                (None, 128)               43253888  \n",
      "_________________________________________________________________\n",
      "dense_1 (Dense)              (None, 64)                8256      \n",
      "_________________________________________________________________\n",
      "dense_2 (Dense)              (None, 10)                650       \n",
      "=================================================================\n",
      "Total params: 43,356,042\n",
      "Trainable params: 43,356,042\n",
      "Non-trainable params: 0\n",
      "_________________________________________________________________\n"
     ]
    }
   ],
   "source": [
    "model.summary()"
   ]
  },
  {
   "cell_type": "code",
   "execution_count": 8,
   "id": "f580143a",
   "metadata": {
    "execution": {
     "iopub.execute_input": "2023-01-28T18:26:12.820077Z",
     "iopub.status.busy": "2023-01-28T18:26:12.819788Z",
     "iopub.status.idle": "2023-01-28T18:54:19.188920Z",
     "shell.execute_reply": "2023-01-28T18:54:19.187863Z"
    },
    "papermill": {
     "duration": 1686.375859,
     "end_time": "2023-01-28T18:54:19.191062",
     "exception": false,
     "start_time": "2023-01-28T18:26:12.815203",
     "status": "completed"
    },
    "tags": []
   },
   "outputs": [
    {
     "name": "stdout",
     "output_type": "stream",
     "text": [
      "Epoch 1/25\n"
     ]
    },
    {
     "name": "stderr",
     "output_type": "stream",
     "text": [
      "2023-01-28 18:26:13.250481: I tensorflow/compiler/mlir/mlir_graph_optimization_pass.cc:185] None of the MLIR Optimization Passes are enabled (registered 2)\n",
      "2023-01-28 18:26:15.599400: I tensorflow/stream_executor/cuda/cuda_dnn.cc:369] Loaded cuDNN version 8005\n"
     ]
    },
    {
     "name": "stdout",
     "output_type": "stream",
     "text": [
      "561/561 [==============================] - 94s 149ms/step - loss: 0.6724 - accuracy: 0.7827 - val_loss: 0.0514 - val_accuracy: 0.9880\n",
      "Epoch 2/25\n",
      "561/561 [==============================] - 56s 99ms/step - loss: 0.0335 - accuracy: 0.9906 - val_loss: 0.0500 - val_accuracy: 0.9860\n",
      "Epoch 3/25\n",
      "561/561 [==============================] - 54s 96ms/step - loss: 0.0320 - accuracy: 0.9909 - val_loss: 0.0442 - val_accuracy: 0.9882\n",
      "Epoch 4/25\n",
      "561/561 [==============================] - 53s 94ms/step - loss: 0.0166 - accuracy: 0.9947 - val_loss: 0.0558 - val_accuracy: 0.9877\n",
      "Epoch 5/25\n",
      "561/561 [==============================] - 57s 100ms/step - loss: 0.0088 - accuracy: 0.9974 - val_loss: 0.0246 - val_accuracy: 0.9949\n",
      "Epoch 6/25\n",
      "561/561 [==============================] - 57s 100ms/step - loss: 0.0187 - accuracy: 0.9944 - val_loss: 0.0490 - val_accuracy: 0.9873\n",
      "Epoch 7/25\n",
      "561/561 [==============================] - 56s 98ms/step - loss: 0.0092 - accuracy: 0.9976 - val_loss: 0.0546 - val_accuracy: 0.9886\n",
      "Epoch 8/25\n",
      "561/561 [==============================] - 56s 100ms/step - loss: 0.0141 - accuracy: 0.9963 - val_loss: 0.0410 - val_accuracy: 0.9900\n",
      "Epoch 9/25\n",
      "561/561 [==============================] - 57s 100ms/step - loss: 0.0124 - accuracy: 0.9967 - val_loss: 0.0548 - val_accuracy: 0.9895\n",
      "Epoch 10/25\n",
      "561/561 [==============================] - 57s 100ms/step - loss: 0.0077 - accuracy: 0.9979 - val_loss: 0.0435 - val_accuracy: 0.9904\n",
      "Epoch 11/25\n",
      "561/561 [==============================] - 56s 99ms/step - loss: 0.0064 - accuracy: 0.9983 - val_loss: 0.0335 - val_accuracy: 0.9924\n",
      "Epoch 12/25\n",
      "561/561 [==============================] - 54s 96ms/step - loss: 0.0042 - accuracy: 0.9990 - val_loss: 0.0473 - val_accuracy: 0.9906\n",
      "Epoch 13/25\n",
      "561/561 [==============================] - 54s 96ms/step - loss: 0.0131 - accuracy: 0.9956 - val_loss: 0.0499 - val_accuracy: 0.9891\n",
      "Epoch 14/25\n",
      "561/561 [==============================] - 54s 96ms/step - loss: 0.0053 - accuracy: 0.9980 - val_loss: 0.0469 - val_accuracy: 0.9902\n",
      "Epoch 15/25\n",
      "561/561 [==============================] - 54s 96ms/step - loss: 0.0035 - accuracy: 0.9991 - val_loss: 0.0330 - val_accuracy: 0.9958\n",
      "Epoch 16/25\n",
      "561/561 [==============================] - 57s 101ms/step - loss: 6.6821e-06 - accuracy: 1.0000 - val_loss: 0.0337 - val_accuracy: 0.9958\n",
      "Epoch 17/25\n",
      "561/561 [==============================] - 54s 95ms/step - loss: 2.8853e-06 - accuracy: 1.0000 - val_loss: 0.0340 - val_accuracy: 0.9958\n",
      "Epoch 18/25\n",
      "561/561 [==============================] - 54s 95ms/step - loss: 1.9916e-06 - accuracy: 1.0000 - val_loss: 0.0343 - val_accuracy: 0.9958\n",
      "Epoch 19/25\n",
      "561/561 [==============================] - 54s 95ms/step - loss: 1.4266e-06 - accuracy: 1.0000 - val_loss: 0.0346 - val_accuracy: 0.9958\n",
      "Epoch 20/25\n",
      "561/561 [==============================] - 53s 93ms/step - loss: 1.0404e-06 - accuracy: 1.0000 - val_loss: 0.0350 - val_accuracy: 0.9958\n",
      "Epoch 21/25\n",
      "561/561 [==============================] - 54s 96ms/step - loss: 7.6486e-07 - accuracy: 1.0000 - val_loss: 0.0354 - val_accuracy: 0.9958\n",
      "Epoch 22/25\n",
      "561/561 [==============================] - 54s 96ms/step - loss: 5.6509e-07 - accuracy: 1.0000 - val_loss: 0.0358 - val_accuracy: 0.9958\n",
      "Epoch 23/25\n",
      "561/561 [==============================] - 53s 94ms/step - loss: 4.1890e-07 - accuracy: 1.0000 - val_loss: 0.0362 - val_accuracy: 0.9958\n",
      "Epoch 24/25\n",
      "561/561 [==============================] - 54s 94ms/step - loss: 3.1112e-07 - accuracy: 1.0000 - val_loss: 0.0366 - val_accuracy: 0.9958\n",
      "Epoch 25/25\n",
      "561/561 [==============================] - 55s 96ms/step - loss: 2.3078e-07 - accuracy: 1.0000 - val_loss: 0.0369 - val_accuracy: 0.9958\n"
     ]
    }
   ],
   "source": [
    "EPOCHS = 25\n",
    "\n",
    "history = model.fit(train_ds, epochs=EPOCHS, validation_data=val_ds)"
   ]
  },
  {
   "cell_type": "code",
   "execution_count": 9,
   "id": "ae72f4e1",
   "metadata": {
    "execution": {
     "iopub.execute_input": "2023-01-28T18:54:20.774794Z",
     "iopub.status.busy": "2023-01-28T18:54:20.774422Z",
     "iopub.status.idle": "2023-01-28T18:54:20.779876Z",
     "shell.execute_reply": "2023-01-28T18:54:20.778832Z"
    },
    "papermill": {
     "duration": 0.79387,
     "end_time": "2023-01-28T18:54:20.782048",
     "exception": false,
     "start_time": "2023-01-28T18:54:19.988178",
     "status": "completed"
    },
    "tags": []
   },
   "outputs": [
    {
     "name": "stdout",
     "output_type": "stream",
     "text": [
      "0.9891661119461059\n"
     ]
    }
   ],
   "source": [
    "print(sum(history.history['accuracy']) / EPOCHS)"
   ]
  },
  {
   "cell_type": "code",
   "execution_count": 10,
   "id": "87b78cb6",
   "metadata": {
    "execution": {
     "iopub.execute_input": "2023-01-28T18:54:22.512221Z",
     "iopub.status.busy": "2023-01-28T18:54:22.511867Z",
     "iopub.status.idle": "2023-01-28T18:54:22.747388Z",
     "shell.execute_reply": "2023-01-28T18:54:22.746532Z"
    },
    "papermill": {
     "duration": 1.243128,
     "end_time": "2023-01-28T18:54:22.749553",
     "exception": false,
     "start_time": "2023-01-28T18:54:21.506425",
     "status": "completed"
    },
    "tags": []
   },
   "outputs": [
    {
     "data": {
      "text/plain": [
       "[<matplotlib.lines.Line2D at 0x7f1ea018aa50>]"
      ]
     },
     "execution_count": 10,
     "metadata": {},
     "output_type": "execute_result"
    },
    {
     "data": {
      "image/png": "[encoded data removed]",
      "text/plain": [
       "<Figure size 432x288 with 1 Axes>"
      ]
     },
     "metadata": {
      "needs_background": "light"
     },
     "output_type": "display_data"
    }
   ],
   "source": [
    "import matplotlib.pyplot as plt\n",
    "\n",
    "plt.plot(history.history['accuracy'])"
   ]
  },
  {
   "cell_type": "code",
   "execution_count": 11,
   "id": "2617afc9",
   "metadata": {
    "execution": {
     "iopub.execute_input": "2023-01-28T18:54:24.283730Z",
     "iopub.status.busy": "2023-01-28T18:54:24.283372Z",
     "iopub.status.idle": "2023-01-28T18:54:24.490233Z",
     "shell.execute_reply": "2023-01-28T18:54:24.489401Z"
    },
    "papermill": {
     "duration": 1.003913,
     "end_time": "2023-01-28T18:54:24.492097",
     "exception": false,
     "start_time": "2023-01-28T18:54:23.488184",
     "status": "completed"
    },
    "tags": []
   },
   "outputs": [
    {
     "data": {
      "text/plain": [
       "[<matplotlib.lines.Line2D at 0x7f1ea0023150>]"
      ]
     },
     "execution_count": 11,
     "metadata": {},
     "output_type": "execute_result"
    },
    {
     "data": {
      "image/png": "[encoded data removed]",
      "text/plain": [
       "<Figure size 432x288 with 1 Axes>"
      ]
     },
     "metadata": {
      "needs_background": "light"
     },
     "output_type": "display_data"
    }
   ],
   "source": [
    "plt.plot(history.history['loss'])"
   ]
  }
 ],
 "metadata": {
  "kernelspec": {
   "display_name": "Python 3",
   "language": "python",
   "name": "python3"
  },
  "language_info": {
   "codemirror_mode": {
    "name": "ipython",
    "version": 3
   },
   "file_extension": ".py",
   "mimetype": "text/x-python",
   "name": "python",
   "nbconvert_exporter": "python",
   "pygments_lexer": "ipython3",
   "version": "3.7.12"
  },
  "papermill": {
   "default_parameters": {},
   "duration": 1731.765155,
   "end_time": "2023-01-28T18:54:29.156889",
   "environment_variables": {},
   "exception": null,
   "input_path": "__notebook__.ipynb",
   "output_path": "__notebook__.ipynb",
   "parameters": {},
   "start_time": "2023-01-28T18:25:37.391734",
   "version": "2.3.4"
  }
 },
 "nbformat": 4,
 "nbformat_minor": 5
}
